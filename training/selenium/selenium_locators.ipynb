{
 "cells": [
  {
   "cell_type": "markdown",
   "metadata": {},
   "source": [
    "# *What are Locators?*\n",
    "    \n",
    "* Locator is a command that tells Selenium IDE which GUI elements its needs to operate on.(say Text Box, Buttons, Check Boxes etc)  \n",
    "* Identification of correct GUI elements is a prerequisite to creating an automation script."
   ]
  },
  {
   "cell_type": "code",
   "execution_count": null,
   "metadata": {},
   "outputs": [],
   "source": [
    "from selenium import webdriver\n",
    "from selenium.webdriver.common.by import By\n",
    "from selenium.webdriver.chrome.service import Service"
   ]
  },
  {
   "cell_type": "code",
   "execution_count": null,
   "metadata": {},
   "outputs": [],
   "source": [
    "my_service = Service(r\"C:\\Drivers\\chromedriver_win32\\chromedriver.exe\")\n",
    "driver = webdriver.Chrome(service=my_service)\n",
    "driver.get(\"https://www.amazon.in/\")"
   ]
  },
  {
   "cell_type": "markdown",
   "metadata": {},
   "source": [
    "# Types of Locators"
   ]
  },
  {
   "cell_type": "markdown",
   "metadata": {},
   "source": [
    "# 1. By Tag Name"
   ]
  },
  {
   "cell_type": "markdown",
   "metadata": {},
   "source": [
    "      \n",
    "        Syntax: driver.find_element(By.TAG_NAME, 'tag_name')"
   ]
  },
  {
   "cell_type": "code",
   "execution_count": null,
   "metadata": {},
   "outputs": [],
   "source": [
    "driver.find_elements(By.TAG_NAME, 'input')"
   ]
  },
  {
   "cell_type": "code",
   "execution_count": null,
   "metadata": {},
   "outputs": [],
   "source": [
    "driver.find_element(By.TAG_NAME, 'input')"
   ]
  },
  {
   "cell_type": "code",
   "execution_count": null,
   "metadata": {},
   "outputs": [],
   "source": [
    "driver.find_elements(By.TAG_NAME, 'a')"
   ]
  },
  {
   "cell_type": "code",
   "execution_count": null,
   "metadata": {},
   "outputs": [],
   "source": [
    "# <button> tag is not available, will throw an error.\n",
    "driver.find_element(By.TAG_NAME, 'button')"
   ]
  },
  {
   "cell_type": "markdown",
   "metadata": {},
   "source": [
    "# 2. By Name"
   ]
  },
  {
   "cell_type": "markdown",
   "metadata": {},
   "source": [
    "        Syntax: driver.find_element(By.NAME, 'my_name')"
   ]
  },
  {
   "cell_type": "code",
   "execution_count": null,
   "metadata": {},
   "outputs": [],
   "source": [
    "# <input type=\"text\" id=\"twotabsearchtextbox\" value=\"\" name=\"field-keywords\" \n",
    "# autocomplete=\"off\" placeholder=\"\" class=\"nav-input nav-progressive-attribute\" dir=\"auto\" tabindex=\"0\" aria-label=\"Search\">\n",
    "driver.find_element(By.NAME, 'field-keywords')"
   ]
  },
  {
   "cell_type": "code",
   "execution_count": null,
   "metadata": {},
   "outputs": [],
   "source": [
    "# <input data-addnewaddress=\"add-new\" id=\"unifiedLocation1ClickAddress\" name=\"dropdown-selection\" \n",
    "# type=\"hidden\" value=\"add-new\" class=\"nav-progressive-attribute\">\n",
    "driver.find_element(By.NAME, 'dropdown-selection')"
   ]
  },
  {
   "cell_type": "markdown",
   "metadata": {},
   "source": [
    "# 3. By ID"
   ]
  },
  {
   "cell_type": "markdown",
   "metadata": {},
   "source": [
    "* The ids are generally unique for an element.\n",
    "\n",
    "        Syntax: driver.find_element(By.ID, 'my_id')"
   ]
  },
  {
   "cell_type": "code",
   "execution_count": null,
   "metadata": {},
   "outputs": [],
   "source": [
    "# <input type=\"text\" id=\"twotabsearchtextbox\" value=\"\" name=\"field-keywords\" \n",
    "# autocomplete=\"off\" placeholder=\"\" class=\"nav-input nav-progressive-attribute\" dir=\"auto\" tabindex=\"0\" aria-label=\"Search\">\n",
    "driver.find_element(By.ID, 'twotabsearchtextbox')"
   ]
  },
  {
   "cell_type": "code",
   "execution_count": null,
   "metadata": {},
   "outputs": [],
   "source": [
    "# <div id=\"nav-cart-count-container\">\n",
    "driver.find_element(By.ID, 'nav-cart-count-container')"
   ]
  },
  {
   "cell_type": "markdown",
   "metadata": {},
   "source": [
    "# 4. By Class Name"
   ]
  },
  {
   "cell_type": "markdown",
   "metadata": {},
   "source": [
    "        Syntax: driver.find_element(By.CLASS_NAME, 'class_name')"
   ]
  },
  {
   "cell_type": "code",
   "execution_count": null,
   "metadata": {},
   "outputs": [],
   "source": [
    "# single word class_name\n",
    "\n",
    "# <div class=\"nav-search-field \">\n",
    "driver.find_elements(By.CLASS_NAME, 'nav-search-field ')"
   ]
  },
  {
   "cell_type": "code",
   "execution_count": null,
   "metadata": {},
   "outputs": [],
   "source": [
    "# <div class=\"nav-left\">\n",
    "driver.find_elements(By.CLASS_NAME, 'nav-left')"
   ]
  },
  {
   "cell_type": "code",
   "execution_count": null,
   "metadata": {},
   "outputs": [],
   "source": [
    "# multi word class_name"
   ]
  },
  {
   "cell_type": "code",
   "execution_count": null,
   "metadata": {},
   "outputs": [],
   "source": [
    "# If class_name have spaces between them, then exact same class_name (will not work).\n",
    "driver.find_element(By.CLASS_NAME, 'nav-search-submit nav-sprite')"
   ]
  },
  {
   "cell_type": "code",
   "execution_count": null,
   "metadata": {},
   "outputs": [],
   "source": [
    "# put dot \".\" instead on spaces (will work).\n",
    "driver.find_element(By.CLASS_NAME, 'nav-search-submit.nav-sprite')"
   ]
  },
  {
   "cell_type": "markdown",
   "metadata": {},
   "source": [
    "# 5. By Link Text"
   ]
  },
  {
   "cell_type": "markdown",
   "metadata": {},
   "source": [
    "* The text enclosed within an anchor tag is used to identify a link or hyperlink. \n",
    "\n",
    "        Syntax: driver.find_element(By.LINK_TEXT, 'text')"
   ]
  },
  {
   "cell_type": "code",
   "execution_count": null,
   "metadata": {},
   "outputs": [],
   "source": [
    "driver.find_elements(By.LINK_TEXT, 'Best')"
   ]
  },
  {
   "cell_type": "code",
   "execution_count": null,
   "metadata": {},
   "outputs": [],
   "source": [
    "driver.find_elements(By.LINK_TEXT, 'Best Sellers')\n"
   ]
  },
  {
   "cell_type": "markdown",
   "metadata": {},
   "source": [
    "# 6. By Partial Link Text"
   ]
  },
  {
   "cell_type": "markdown",
   "metadata": {},
   "source": [
    "* The partial text enclosed within an anchor tag is used to identify a link or hyperlink.\n",
    "\n",
    "        Syntax: driver.find_element(By.PARTIAL_LINK_TEXT, 'text')"
   ]
  },
  {
   "cell_type": "code",
   "execution_count": null,
   "metadata": {},
   "outputs": [],
   "source": [
    "driver.find_element(By.PARTIAL_LINK_TEXT, 'Best')"
   ]
  },
  {
   "cell_type": "code",
   "execution_count": null,
   "metadata": {},
   "outputs": [],
   "source": [
    "driver.find_elements(By.PARTIAL_LINK_TEXT, 'Best Sellers')"
   ]
  },
  {
   "cell_type": "markdown",
   "metadata": {},
   "source": [
    "# 7. By XPATH"
   ]
  },
  {
   "cell_type": "markdown",
   "metadata": {},
   "source": [
    "* The element is identified with the XPath created with the help of HTML attribute, value, and tagName. \n",
    "* Xpath is of two types absolute and relative. \n",
    "    * For absolute XPath, we have to traverse from root to the element.\n",
    "    * For relative XPath, we can start from any position in DOM. \n",
    "    \n",
    "* An XPath expression should follow a particular rule- // tagname [@attribute=’value’]. The Tag Name is optional. If it is omitted, the expression should //*[@attribute=’value’].\n",
    "\n",
    "        Syntax: driver.find_element(By.XPATH, '//XPATH')"
   ]
  },
  {
   "cell_type": "code",
   "execution_count": null,
   "metadata": {},
   "outputs": [],
   "source": [
    "# //tag_name\n",
    "driver.find_elements(By.XPATH, '//input')"
   ]
  },
  {
   "cell_type": "code",
   "execution_count": null,
   "metadata": {},
   "outputs": [],
   "source": [
    "#  //tag_name[@attribute = \"value\"]\n",
    "driver.find_elements(By.XPATH, '//input[@type=\"text\"]')"
   ]
  },
  {
   "cell_type": "code",
   "execution_count": null,
   "metadata": {},
   "outputs": [],
   "source": [
    "# //*[@attribute = \"value\"] \n",
    "# * means it will search all the tags and will stop at where it finds the attribute+value\n",
    "driver.find_elements(By.XPATH, '//*[@id=\"nav-xshop\"]')"
   ]
  },
  {
   "cell_type": "code",
   "execution_count": null,
   "metadata": {},
   "outputs": [],
   "source": [
    "# //*[@attribute = \"value\"]/tag_name\n",
    "# / next child\n",
    "driver.find_elements(By.XPATH, '//div[@class=\"nav-fill\"]/div')"
   ]
  },
  {
   "cell_type": "code",
   "execution_count": null,
   "metadata": {},
   "outputs": [],
   "source": [
    "# //*[@attribute = \"value\"]//tag_name\n",
    "# // consider all child\n",
    "driver.find_elements(By.XPATH, '//div[@class=\"nav-fill\"]//div')"
   ]
  },
  {
   "cell_type": "code",
   "execution_count": null,
   "metadata": {},
   "outputs": [],
   "source": [
    "# //tagname[. = \"text\"]\n",
    "driver.find_elements(By.XPATH, '//a[. = \"Best Sellers\"]')"
   ]
  },
  {
   "cell_type": "code",
   "execution_count": null,
   "metadata": {},
   "outputs": [],
   "source": [
    "# //tag_name/..\n",
    "# .. means parent of the tag_name\n",
    "driver.find_elements(By.XPATH, '//input/..')"
   ]
  },
  {
   "cell_type": "code",
   "execution_count": null,
   "metadata": {},
   "outputs": [],
   "source": [
    "driver.find_elements(By.XPATH, '//*[@id=\"nav-tools\"]/a')"
   ]
  },
  {
   "cell_type": "code",
   "execution_count": null,
   "metadata": {},
   "outputs": [],
   "source": [
    "driver.find_elements(By.XPATH, '//*[@id=\"nav-tools\"]/a[1]')"
   ]
  },
  {
   "cell_type": "code",
   "execution_count": null,
   "metadata": {},
   "outputs": [],
   "source": [
    "driver.find_elements(By.XPATH, '//*[@id=\"nav-tools\"]/a[last()]')"
   ]
  },
  {
   "cell_type": "markdown",
   "metadata": {},
   "source": [
    "# 8. By CSS Locator"
   ]
  },
  {
   "cell_type": "markdown",
   "metadata": {},
   "source": [
    "* The element is identified with the CSS created with the help of HTML attribute, value, or tagName.\n",
    "\n",
    "        Syntax: driver.find_elements(By.CSS_SELECTOR, 'input#txt')"
   ]
  },
  {
   "cell_type": "code",
   "execution_count": null,
   "metadata": {},
   "outputs": [],
   "source": [
    "# tag_name\n",
    "driver.find_elements(By.CSS_SELECTOR, 'input')"
   ]
  },
  {
   "cell_type": "code",
   "execution_count": null,
   "metadata": {},
   "outputs": [],
   "source": [
    "# tag_name.class1.class2\n",
    "driver.find_elements(By.CSS_SELECTOR, 'input.nav-input.nav-progressive-attribute')"
   ]
  },
  {
   "cell_type": "code",
   "execution_count": null,
   "metadata": {},
   "outputs": [],
   "source": [
    "# tag_name#id\n",
    "driver.find_elements(By.CSS_SELECTOR, 'input#twotabsearchtextbox')"
   ]
  },
  {
   "cell_type": "code",
   "execution_count": null,
   "metadata": {},
   "outputs": [],
   "source": [
    "# parent_tag_name > child_tag_name\n",
    "driver.find_elements(By.CSS_SELECTOR, 'div > input')"
   ]
  },
  {
   "cell_type": "code",
   "execution_count": null,
   "metadata": {},
   "outputs": [],
   "source": [
    "# #id\n",
    "driver.find_elements(By.CSS_SELECTOR, '#twotabsearchtextbox')"
   ]
  },
  {
   "cell_type": "code",
   "execution_count": null,
   "metadata": {},
   "outputs": [],
   "source": [
    "# #id > parent_tag_name > child_tag_name\n",
    "driver.find_elements(By.CSS_SELECTOR, '#CardInstanceQNqkNMgnYMdkg9dk0pUzTQ > div > div')"
   ]
  },
  {
   "cell_type": "code",
   "execution_count": null,
   "metadata": {},
   "outputs": [],
   "source": [
    "# tag_name[attribute = \"value\"]\n",
    "driver.find_elements(By.CSS_SELECTOR, 'input[aria-label=\"Search\"]')"
   ]
  },
  {
   "cell_type": "code",
   "execution_count": null,
   "metadata": {},
   "outputs": [],
   "source": []
  }
 ],
 "metadata": {
  "interpreter": {
   "hash": "14026295373d426cc26cb234867bcbb453b58a52d594499ebe3dcd2adfc69f37"
  },
  "kernelspec": {
   "display_name": "Python 3",
   "language": "python",
   "name": "python3"
  },
  "language_info": {
   "codemirror_mode": {
    "name": "ipython",
    "version": 3
   },
   "file_extension": ".py",
   "mimetype": "text/x-python",
   "name": "python",
   "nbconvert_exporter": "python",
   "pygments_lexer": "ipython3",
   "version": "3.9.4"
  }
 },
 "nbformat": 4,
 "nbformat_minor": 2
}
